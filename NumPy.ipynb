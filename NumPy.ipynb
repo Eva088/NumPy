{
 "cells": [
  {
   "cell_type": "markdown",
   "metadata": {},
   "source": [
    "**Introduction**\n",
    "\n",
    "This notebook explores the functionalities of the NumPy library. "
   ]
  },
  {
   "cell_type": "code",
   "execution_count": 6,
   "metadata": {},
   "outputs": [],
   "source": [
    "#importing NumPy\n",
    "\n",
    "import numpy as np"
   ]
  },
  {
   "cell_type": "code",
   "execution_count": 17,
   "metadata": {},
   "outputs": [
    {
     "data": {
      "text/plain": [
       "(2, 3)"
      ]
     },
     "execution_count": 17,
     "metadata": {},
     "output_type": "execute_result"
    }
   ],
   "source": [
    "\n",
    "#Creating an Array\n",
    "\n",
    "a = np.array([[1,2,3], [4,5,6]])\n",
    "\n",
    "a.shape\n",
    "\n",
    "#all elements of the array must be of the same type of data\n",
    "#once created, the total size of the array can't change\n",
    "#the shape must be 'rectangular', not 'jagged'.i.e.each row of a 2D array must have the same number of columns"
   ]
  },
  {
   "cell_type": "markdown",
   "metadata": {},
   "source": [
    "**Array Fundamentals**"
   ]
  },
  {
   "cell_type": "code",
   "execution_count": null,
   "metadata": {},
   "outputs": [
    {
     "data": {
      "text/plain": [
       "8"
      ]
     },
     "execution_count": 37,
     "metadata": {},
     "output_type": "execute_result"
    }
   ],
   "source": [
    "a = np.array([1,2,3,4,5,6]) #1D vector with 6 elements\n",
    "\n",
    "#indexing\n",
    "\n",
    "a[0]\n",
    "\n",
    "#The array is mutable \n",
    "\n",
    "a[0] = 10\n",
    "\n",
    "#Like in a list, the slice notatio can be used for indexing\n",
    "\n",
    "a[:3]\n",
    "\n",
    "#Slicing a list returns a new list but slicing an array returns a view of the original array.\n",
    "\n",
    "#The original array can be mutated using the view. \n",
    "\n",
    "b = a[3:]\n",
    "\n",
    "b[0] = 40\n",
    "\n",
    "a\n",
    "\n",
    "a = np.array([[1,2,3,4],\n",
    "              [5,6,7,8],\n",
    "              [9, 10, 11, 12]])\n",
    "\n",
    "#Dimension of an array is referred to an 'axis'. Eg: array a technically represents 3 points in 4D space, but a has only two 'axes'\n",
    "\n",
    "#Accessing 8\n",
    "\n",
    "a[1,3] #Indexing for rows and elements both begins at zero: first row, third column\n",
    "\n",
    "\n",
    "\n",
    "\n"
   ]
  },
  {
   "cell_type": "markdown",
   "metadata": {},
   "source": [
    "**Array attributes**"
   ]
  },
  {
   "cell_type": "code",
   "execution_count": null,
   "metadata": {},
   "outputs": [
    {
     "name": "stdout",
     "output_type": "stream",
     "text": [
      "2\n",
      "12\n"
     ]
    },
    {
     "data": {
      "text/plain": [
       "dtype('int64')"
      ]
     },
     "execution_count": 54,
     "metadata": {},
     "output_type": "execute_result"
    }
   ],
   "source": [
    "#Covers ndim, shape, size and dtype attributes of an array\n",
    "\n",
    "#finding the dimensions of an array (ndim)\n",
    "\n",
    "print(a.ndim)\n",
    "\n",
    "#checking the shape of an array(shape)\n",
    "\n",
    "len(a.shape) == a.ndim\n",
    "\n",
    "\n",
    "a = np.array([[[1,2,3],\n",
    "             [4,5,6],\n",
    "             [7,8,9]],\n",
    "             \n",
    "             [[10,11,12],\n",
    "             [13,14,15],\n",
    "             [16,17,18]]])\n",
    "\n",
    "len(a.shape) == a.ndim\n",
    "\n",
    "\n",
    "#Finding the size i.e the number of elements in an array (multiplying the number of rows and columns)\n",
    "\n",
    "a = np.array([[1, 2, 3, 4], [5, 6, 7, 8], [9, 10, 11, 12]])\n",
    "print(a.size)\n",
    "\n",
    "import math\n",
    "\n",
    "a.size == math.prod(a.shape)\n",
    "\n",
    "#Arrays are typically homogeneous i.e they contain elements of only one 'data type' \n",
    "\n",
    "a.dtype\n",
    "\n"
   ]
  },
  {
   "cell_type": "markdown",
   "metadata": {},
   "source": [
    "**Creating a basic array**"
   ]
  },
  {
   "cell_type": "code",
   "execution_count": null,
   "metadata": {},
   "outputs": [
    {
     "data": {
      "text/plain": [
       "array([0., 1., 2., 3.])"
      ]
     },
     "execution_count": 65,
     "metadata": {},
     "output_type": "execute_result"
    }
   ],
   "source": [
    "#np.zeros(), np.ones(), np.empty(), np.arange(). np.linspace()\n",
    "\n",
    "##creating an array filled with zeros\n",
    "\n",
    "np.zeros(2)\n",
    "\n",
    "##creating an array filled with ones and specifying the datatype\n",
    "\n",
    "np.ones(2, dtype=np.int64)\n",
    "\n",
    "##creating an empty array with 2 elements\n",
    "\n",
    "np.empty(2) #generates random numbers\n",
    "\n",
    "##creating an array with a range of elements\n",
    "\n",
    "np.arange(4, dtype = np.float64)\n",
    "\n",
    "np.arange(2,9,2)\n",
    "\n",
    "##creating an array with values that are linearly spaced in a specified interval\n",
    "\n",
    "np.linspace(0, 10, num = 5)\n"
   ]
  },
  {
   "cell_type": "markdown",
   "metadata": {},
   "source": [
    "**Adding,removing, and sorting elements**"
   ]
  },
  {
   "cell_type": "code",
   "execution_count": null,
   "metadata": {},
   "outputs": [
    {
     "data": {
      "text/plain": [
       "array([[1, 2],\n",
       "       [3, 4],\n",
       "       [5, 6]])"
      ]
     },
     "execution_count": 72,
     "metadata": {},
     "output_type": "execute_result"
    }
   ],
   "source": [
    "#covers np.sort(), np.concatenate()\n",
    "\n",
    "arr = np.array([2,1,5,3,7,4,6,8])\n",
    "\n",
    "#sorting the numbers in ascending order\n",
    "\n",
    "np.sort(arr)\n",
    "\n",
    "#concatenating \n",
    "a = np.array([[1,2], [3,4]])\n",
    "b =  np.array([[5,6]])\n",
    "\n",
    "np.concatenate((a,b), axis = 0)\n"
   ]
  },
  {
   "cell_type": "markdown",
   "metadata": {},
   "source": [
    "**Shape and size of an array**"
   ]
  },
  {
   "cell_type": "code",
   "execution_count": 74,
   "metadata": {},
   "outputs": [
    {
     "data": {
      "text/plain": [
       "(3, 2, 4)"
      ]
     },
     "execution_count": 74,
     "metadata": {},
     "output_type": "execute_result"
    }
   ],
   "source": [
    "#covers ndarray.ndim, ndarray.size, ndarray.shape\n",
    "\n",
    "array_example = np.array([[[0,1,2,3],\n",
    "                          [4,5,6,7]],\n",
    "                         [[0,1,2,3],\n",
    "                          [4,5,6,7]],\n",
    "                         [[0,1,2,3],\n",
    "                          [4,5,6,7]]])\n",
    "\n",
    "#finding the number of dimensions of the array\n",
    "array_example.ndim\n",
    "\n",
    "##finding the total number of elements in the array\n",
    "\n",
    "array_example.size\n",
    "\n",
    "##finding the shape of an array\n",
    "\n",
    "array_example.shape"
   ]
  }
 ],
 "metadata": {
  "kernelspec": {
   "display_name": "base",
   "language": "python",
   "name": "python3"
  },
  "language_info": {
   "codemirror_mode": {
    "name": "ipython",
    "version": 3
   },
   "file_extension": ".py",
   "mimetype": "text/x-python",
   "name": "python",
   "nbconvert_exporter": "python",
   "pygments_lexer": "ipython3",
   "version": "3.12.7"
  }
 },
 "nbformat": 4,
 "nbformat_minor": 2
}
