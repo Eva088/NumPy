{
 "cells": [
  {
   "cell_type": "markdown",
   "metadata": {},
   "source": [
    "**Introduction**\n",
    "\n",
    "This notebook explores the functionalities of the NumPy library. "
   ]
  },
  {
   "cell_type": "code",
   "execution_count": 6,
   "metadata": {},
   "outputs": [],
   "source": [
    "#importing NumPy\n",
    "\n",
    "import numpy as np"
   ]
  },
  {
   "cell_type": "code",
   "execution_count": 17,
   "metadata": {},
   "outputs": [
    {
     "data": {
      "text/plain": [
       "(2, 3)"
      ]
     },
     "execution_count": 17,
     "metadata": {},
     "output_type": "execute_result"
    }
   ],
   "source": [
    "\n",
    "#Creating an Array\n",
    "\n",
    "a = np.array([[1,2,3], [4,5,6]])\n",
    "\n",
    "a.shape\n",
    "\n",
    "#all elements of the array must be of the same type of data\n",
    "#once created, the total size of the array can't change\n",
    "#the shape must be 'rectangular', not 'jagged'.i.e.each row of a 2D array must have the same number of columns"
   ]
  },
  {
   "cell_type": "markdown",
   "metadata": {},
   "source": [
    "**Array Fundamentals**"
   ]
  },
  {
   "cell_type": "code",
   "execution_count": null,
   "metadata": {},
   "outputs": [
    {
     "data": {
      "text/plain": [
       "8"
      ]
     },
     "execution_count": 36,
     "metadata": {},
     "output_type": "execute_result"
    }
   ],
   "source": [
    "a = np.array([1,2,3,4,5,6]) #1D vector with 6 elements\n",
    "\n",
    "#indexing\n",
    "\n",
    "a[0]\n",
    "\n",
    "#The array is mutable \n",
    "\n",
    "a[0] = 10\n",
    "\n",
    "#Like in a list, the slice notatio can be used for indexing\n",
    "\n",
    "a[:3]\n",
    "\n",
    "#Slicing a list returns a new list but slicing an array returns a view of the original array.\n",
    "\n",
    "#The original array can be mutated using the view. \n",
    "\n",
    "b = a[3:]\n",
    "\n",
    "b[0] = 40\n",
    "\n",
    "a\n",
    "\n",
    "a = np.array([[1,2,3,4],\n",
    "              [5,6,7,8],\n",
    "              [9, 10, 11, 12]])\n",
    "\n",
    "#Dimension of an array is referred to an 'axis'. Eg: array a represents 3 points in 4D space, but a has only two 'axes'\n",
    "\n",
    "#Accessing 8\n",
    "\n",
    "a[1,3] #Indexing for rows and elements both begins at zero: first row, third column\n",
    "\n",
    "\n"
   ]
  },
  {
   "cell_type": "markdown",
   "metadata": {},
   "source": [
    "**Array attributes**"
   ]
  }
 ],
 "metadata": {
  "kernelspec": {
   "display_name": "base",
   "language": "python",
   "name": "python3"
  },
  "language_info": {
   "codemirror_mode": {
    "name": "ipython",
    "version": 3
   },
   "file_extension": ".py",
   "mimetype": "text/x-python",
   "name": "python",
   "nbconvert_exporter": "python",
   "pygments_lexer": "ipython3",
   "version": "3.12.7"
  }
 },
 "nbformat": 4,
 "nbformat_minor": 2
}
