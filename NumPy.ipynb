{
 "cells": [
  {
   "cell_type": "markdown",
   "metadata": {},
   "source": [
    "**Introduction**\n",
    "\n",
    "This notebook explores the functionalities of the NumPy library. "
   ]
  },
  {
   "cell_type": "code",
   "execution_count": 6,
   "metadata": {},
   "outputs": [],
   "source": [
    "#importing NumPy\n",
    "\n",
    "import numpy as np"
   ]
  },
  {
   "cell_type": "code",
   "execution_count": 17,
   "metadata": {},
   "outputs": [
    {
     "data": {
      "text/plain": [
       "(2, 3)"
      ]
     },
     "execution_count": 17,
     "metadata": {},
     "output_type": "execute_result"
    }
   ],
   "source": [
    "\n",
    "#Creating an Array\n",
    "\n",
    "a = np.array([[1,2,3], [4,5,6]])\n",
    "\n",
    "a.shape\n",
    "\n",
    "#all elements of the array must be of the same type of data\n",
    "#once created, the total size of the array can't change\n",
    "#the shape must be 'rectangular', not 'jagged'.i.e.each row of a 2D array must have the same number of columns"
   ]
  },
  {
   "cell_type": "markdown",
   "metadata": {},
   "source": [
    "**Array Fundamentals**"
   ]
  },
  {
   "cell_type": "code",
   "execution_count": null,
   "metadata": {},
   "outputs": [
    {
     "data": {
      "text/plain": [
       "8"
      ]
     },
     "execution_count": 37,
     "metadata": {},
     "output_type": "execute_result"
    }
   ],
   "source": [
    "a = np.array([1,2,3,4,5,6]) #1D vector with 6 elements\n",
    "\n",
    "#indexing\n",
    "\n",
    "a[0]\n",
    "\n",
    "#The array is mutable \n",
    "\n",
    "a[0] = 10\n",
    "\n",
    "#Like in a list, the slice notatio can be used for indexing\n",
    "\n",
    "a[:3]\n",
    "\n",
    "#Slicing a list returns a new list but slicing an array returns a view of the original array.\n",
    "\n",
    "#The original array can be mutated using the view. \n",
    "\n",
    "b = a[3:]\n",
    "\n",
    "b[0] = 40\n",
    "\n",
    "a\n",
    "\n",
    "a = np.array([[1,2,3,4],\n",
    "              [5,6,7,8],\n",
    "              [9, 10, 11, 12]])\n",
    "\n",
    "#Dimension of an array is referred to an 'axis'. Eg: array a technically represents 3 points in 4D space, but a has only two 'axes'\n",
    "\n",
    "#Accessing 8\n",
    "\n",
    "a[1,3] #Indexing for rows and elements both begins at zero: first row, third column\n",
    "\n",
    "\n",
    "\n",
    "\n"
   ]
  },
  {
   "cell_type": "markdown",
   "metadata": {},
   "source": [
    "**Array attributes**"
   ]
  },
  {
   "cell_type": "code",
   "execution_count": null,
   "metadata": {},
   "outputs": [
    {
     "name": "stdout",
     "output_type": "stream",
     "text": [
      "2\n",
      "12\n"
     ]
    },
    {
     "data": {
      "text/plain": [
       "dtype('int64')"
      ]
     },
     "execution_count": 54,
     "metadata": {},
     "output_type": "execute_result"
    }
   ],
   "source": [
    "#Covers ndim, shape, size and dtype attributes of an array\n",
    "\n",
    "#finding the dimensions of an array (ndim)\n",
    "\n",
    "print(a.ndim)\n",
    "\n",
    "#checking the shape of an array(shape)\n",
    "\n",
    "len(a.shape) == a.ndim\n",
    "\n",
    "\n",
    "a = np.array([[[1,2,3],\n",
    "             [4,5,6],\n",
    "             [7,8,9]],\n",
    "             \n",
    "             [[10,11,12],\n",
    "             [13,14,15],\n",
    "             [16,17,18]]])\n",
    "\n",
    "len(a.shape) == a.ndim\n",
    "\n",
    "\n",
    "#Finding the size i.e the number of elements in an array (multiplying the number of rows and columns)\n",
    "\n",
    "a = np.array([[1, 2, 3, 4], [5, 6, 7, 8], [9, 10, 11, 12]])\n",
    "print(a.size)\n",
    "\n",
    "import math\n",
    "\n",
    "a.size == math.prod(a.shape)\n",
    "\n",
    "#Arrays are typically homogeneous i.e they contain elements of only one 'data type' \n",
    "\n",
    "a.dtype\n",
    "\n"
   ]
  },
  {
   "cell_type": "markdown",
   "metadata": {},
   "source": [
    "**Creating a basic array**"
   ]
  },
  {
   "cell_type": "code",
   "execution_count": 128,
   "metadata": {},
   "outputs": [
    {
     "name": "stdout",
     "output_type": "stream",
     "text": [
      "[1 1]\n"
     ]
    },
    {
     "data": {
      "text/plain": [
       "array([ 0. ,  2.5,  5. ,  7.5, 10. ])"
      ]
     },
     "execution_count": 128,
     "metadata": {},
     "output_type": "execute_result"
    }
   ],
   "source": [
    "#np.zeros(), np.ones(), np.empty(), np.arange(). np.linspace()\n",
    "\n",
    "##creating an array filled with zeros\n",
    "\n",
    "np.zeros(2)\n",
    "\n",
    "##creating an array filled with ones and specifying the datatype\n",
    "\n",
    "print(np.ones(2, dtype=np.int64))\n",
    "\n",
    "##creating an empty array with 2 elements\n",
    "\n",
    "np.empty(2) #generates random numbers\n",
    "\n",
    "##creating an array with a range of elements\n",
    "\n",
    "np.arange(4, dtype = np.float64)\n",
    "\n",
    "np.arange(2,9,2)\n",
    "\n",
    "##creating an array with values that are linearly spaced in a specified interval\n",
    "\n",
    "np.linspace(0, 10, num = 5)\n"
   ]
  },
  {
   "cell_type": "markdown",
   "metadata": {},
   "source": [
    "**Adding,removing, and sorting elements**"
   ]
  },
  {
   "cell_type": "code",
   "execution_count": null,
   "metadata": {},
   "outputs": [
    {
     "data": {
      "text/plain": [
       "array([[1, 2],\n",
       "       [3, 4],\n",
       "       [5, 6]])"
      ]
     },
     "execution_count": 72,
     "metadata": {},
     "output_type": "execute_result"
    }
   ],
   "source": [
    "#covers np.sort(), np.concatenate()\n",
    "\n",
    "arr = np.array([2,1,5,3,7,4,6,8])\n",
    "\n",
    "#sorting the numbers in ascending order\n",
    "\n",
    "np.sort(arr)\n",
    "\n",
    "#concatenating \n",
    "a = np.array([[1,2], [3,4]])\n",
    "b =  np.array([[5,6]])\n",
    "\n",
    "np.concatenate((a,b), axis = 0)\n"
   ]
  },
  {
   "cell_type": "markdown",
   "metadata": {},
   "source": [
    "**Shape and size of an array**"
   ]
  },
  {
   "cell_type": "code",
   "execution_count": null,
   "metadata": {},
   "outputs": [
    {
     "data": {
      "text/plain": [
       "(3, 2, 4)"
      ]
     },
     "execution_count": 74,
     "metadata": {},
     "output_type": "execute_result"
    }
   ],
   "source": [
    "#covers ndarray.ndim, ndarray.size, ndarray.shape\n",
    "\n",
    "array_example = np.array([[[0,1,2,3],\n",
    "                          [4,5,6,7]],\n",
    "                         [[0,1,2,3],\n",
    "                          [4,5,6,7]],\n",
    "                         [[0,1,2,3],\n",
    "                          [4,5,6,7]]])\n",
    "\n",
    "#finding the number of dimensions of the array\n",
    "array_example.ndim\n",
    "\n",
    "##finding the total number of elements in the array\n",
    "\n",
    "array_example.size\n",
    "\n",
    "##finding the shape of an array\n",
    "\n",
    "array_example.shape"
   ]
  },
  {
   "cell_type": "markdown",
   "metadata": {},
   "source": [
    "**Reshaping an array**"
   ]
  },
  {
   "cell_type": "code",
   "execution_count": 78,
   "metadata": {},
   "outputs": [
    {
     "name": "stdout",
     "output_type": "stream",
     "text": [
      "[0 1 2 3 4 5]\n",
      "[[0 1]\n",
      " [2 3]\n",
      " [4 5]]\n"
     ]
    },
    {
     "data": {
      "text/plain": [
       "array([[0, 1, 2, 3, 4, 5]])"
      ]
     },
     "execution_count": 78,
     "metadata": {},
     "output_type": "execute_result"
    }
   ],
   "source": [
    "##covers arr.reshape()\n",
    "\n",
    "a = np.arange(6)\n",
    "print(a)\n",
    "\n",
    "b = a.reshape(3,2)\n",
    "print(b)\n",
    "\n",
    "np.reshape(a, newshape=(1,6), order = 'C')"
   ]
  },
  {
   "cell_type": "markdown",
   "metadata": {},
   "source": [
    "**How to convert a 1D array into a 2D array (how to add a new axis to an array)**"
   ]
  },
  {
   "cell_type": "code",
   "execution_count": null,
   "metadata": {},
   "outputs": [
    {
     "data": {
      "text/plain": [
       "(1, 6)"
      ]
     },
     "execution_count": 85,
     "metadata": {},
     "output_type": "execute_result"
    }
   ],
   "source": [
    "#covers np.newaxis(), np.expand_dims to increase the dimensions of the existing array\n",
    "\n",
    "a = np.array([1,2,3,4,5,6])\n",
    "\n",
    "a.shape\n",
    "\n",
    "#adding a new dimension to the array\n",
    "\n",
    "a2 = a[np.newaxis, : ] \n",
    "\n",
    "a2 = a[:, np.newaxis ] \n",
    "\n",
    "a2.shape\n",
    "\n",
    "##Expanding the dimensions to add an axis to index position 1\n",
    "\n",
    "b = np.expand_dims(a, axis=0)\n",
    "b.shape\n",
    "\n"
   ]
  },
  {
   "cell_type": "markdown",
   "metadata": {},
   "source": [
    "**Indexing and slicing**"
   ]
  },
  {
   "cell_type": "code",
   "execution_count": null,
   "metadata": {},
   "outputs": [
    {
     "name": "stdout",
     "output_type": "stream",
     "text": [
      "[0 2 3 4]\n",
      "[ 5  6  7  8  9 10 11 12]\n",
      "[ 0  2  4  6  8 10 12]\n",
      "[[ True  True  True  True]\n",
      " [ True False False False]\n",
      " [False False False False]]\n",
      "(array([0, 0, 0, 0]), array([0, 1, 2, 3]))\n",
      "[(0, 0), (0, 1), (0, 2), (0, 3)]\n",
      "(0, 0)\n",
      "(0, 1)\n",
      "(0, 2)\n",
      "(0, 3)\n",
      "[0 2 3 4]\n"
     ]
    }
   ],
   "source": [
    "data = np.array([1,2,3])\n",
    "\n",
    "data[1]\n",
    "\n",
    "data[0:2]\n",
    "\n",
    "data[1:]\n",
    "\n",
    "data[-2:]\n",
    "\n",
    "#selecting values from the array that fulfill certain conditions\n",
    "\n",
    "a = np.array([[1,2,3,4], [5,6,7,8], [9,10,11,12]])\n",
    "\n",
    "##printing all the values in the array that are less than 5\n",
    "\n",
    "print(a[a<5])\n",
    "\n",
    "five_up = a[a>=5]\n",
    "\n",
    "print(five_up)\n",
    "\n",
    "#print(a[a>=5])\n",
    "\n",
    "print(a[a % 2 == 0])\n",
    "\n",
    "##selecting elements that satisfy two conditions using | and & operators to return boolean values that specify whether or not the values in an array fulfill a certain condition\n",
    "\n",
    "five_up = (a<5) | (a==5)\n",
    "\n",
    "print(five_up)\n",
    "\n",
    "#np.nonzero()can also be used to select elements from an array\n",
    "\n",
    "b = np.nonzero(a<5) #print the indices of elements that are less than 5: row indices, column indices\n",
    "\n",
    "print(b)\n",
    "\n",
    "##generating a list of coordinates where the elements exist\n",
    "\n",
    "list_of_coordinates = list(zip(b[0],b[1]))\n",
    "print(list_of_coordinates)\n",
    "\n",
    "for coord in list_of_coordinates:\n",
    "    print(coord)\n",
    "    \n",
    "#np.nonzero to print the elements in a that are less than 5\n",
    "\n",
    "print(a[b])\n"
   ]
  },
  {
   "cell_type": "markdown",
   "metadata": {},
   "source": [
    "**Creating an array from existing data**"
   ]
  },
  {
   "cell_type": "code",
   "execution_count": null,
   "metadata": {},
   "outputs": [
    {
     "name": "stdout",
     "output_type": "stream",
     "text": [
      "[[1 1]\n",
      " [2 2]\n",
      " [3 3]\n",
      " [4 4]]\n",
      "[[1 1 3 3]\n",
      " [2 2 4 4]]\n",
      "[[ 1  2  3  4  5  6  7  8  9 10 11 12]\n",
      " [13 14 15 16 17 18 19 20 21 22 23 24]]\n",
      "[[99  2  3  4]\n",
      " [ 5  6  7  8]\n",
      " [ 9 10 11 12]]\n"
     ]
    },
    {
     "data": {
      "text/plain": [
       "array([[99,  2,  3,  4],\n",
       "       [ 5,  6,  7,  8],\n",
       "       [ 9, 10, 11, 12]])"
      ]
     },
     "execution_count": 127,
     "metadata": {},
     "output_type": "execute_result"
    }
   ],
   "source": [
    "#covers slicing and indexing, np.vstack(), np.hstack(), np.hsplit(), .view(),.copy()\n",
    "\n",
    "##creating a new array from the section of an existing array\n",
    "\n",
    "a = np.array([1,2,3,4,5,6,7,8,9,10])\n",
    "\n",
    "arr1 = a[3:8]\n",
    "arr1\n",
    "\n",
    "#stacking 2 existing arrays vertically and horizontally\n",
    "\n",
    "a1= np.array([[1,1],\n",
    "              [2,2]])\n",
    "\n",
    "a2 = np.array([[3,3],\n",
    "               [4,4]])\n",
    "\n",
    "print(np.vstack((a1,a2)))\n",
    "print(np.hstack((a1,a2)))\n",
    "\n",
    "##splitting an array into several smaller arrays using hsplit\n",
    "\n",
    "x = np.arange(1,25).reshape(2,12)\n",
    "print(x)\n",
    "\n",
    "###splitting x into 3 equally shaped arrays\n",
    "\n",
    "np.hsplit(x,3)\n",
    "np.hsplit(x,(3,4)) #0:2,3:4,4:\n",
    "\n",
    "a = np.array([[1,2,3,4], [5,6,7,8], [9,10,11,12]])\n",
    "a.shape\n",
    "\n",
    "b = a[0,:] #viewing and modifying an array\n",
    "\n",
    "b[0] = 99\n",
    "print(a)\n",
    "\n",
    "##making a copy of an array; does not modify the original array \n",
    "\n",
    "b2 = a.copy()\n",
    "\n",
    "b2\n",
    "\n",
    "b2[0,0]= 100\n",
    "b2\n",
    "a\n",
    "\n"
   ]
  },
  {
   "cell_type": "markdown",
   "metadata": {},
   "source": [
    "**Basic Array Operations**"
   ]
  },
  {
   "cell_type": "code",
   "execution_count": null,
   "metadata": {},
   "outputs": [
    {
     "data": {
      "text/plain": [
       "array([3, 3])"
      ]
     },
     "execution_count": 142,
     "metadata": {},
     "output_type": "execute_result"
    }
   ],
   "source": [
    "##covers addition, subtraction, multiplication, division and more\n",
    "\n",
    "data = np.array([1,2])\n",
    "\n",
    "ones = np.ones(2, dtype = np.int64)\n",
    "\n",
    "data + ones\n",
    "data - ones\n",
    "data * ones\n",
    "data / ones\n",
    "data * data\n",
    "\n",
    "##finding the sum of the elements in an array\n",
    "\n",
    "b = np.array([[1,1], [2,2]])\n",
    "\n",
    "b.sum(axis = 0) #along the axis of rows: goes through different rows\n",
    "\n",
    "b.sum(axis = 1) #along the axis of columns : goes through the columns\n"
   ]
  }
 ],
 "metadata": {
  "kernelspec": {
   "display_name": "base",
   "language": "python",
   "name": "python3"
  },
  "language_info": {
   "codemirror_mode": {
    "name": "ipython",
    "version": 3
   },
   "file_extension": ".py",
   "mimetype": "text/x-python",
   "name": "python",
   "nbconvert_exporter": "python",
   "pygments_lexer": "ipython3",
   "version": "3.12.7"
  }
 },
 "nbformat": 4,
 "nbformat_minor": 2
}
